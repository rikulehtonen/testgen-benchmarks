{
 "cells": [
  {
   "cell_type": "code",
   "execution_count": 4,
   "metadata": {},
   "outputs": [
    {
     "data": {
      "text/plain": [
       "(-10.143334748326474,\n",
       " 9.769603882591966e-20,\n",
       " 8.767137226205177,\n",
       " 8.3506990328119e-16)"
      ]
     },
     "execution_count": 4,
     "metadata": {},
     "output_type": "execute_result"
    }
   ],
   "source": [
    "from scipy.stats import ttest_ind_from_stats\n",
    "\n",
    "# Data for Original Environment\n",
    "mean_ppo_original = 59.2\n",
    "std_ppo_original = 643.3\n",
    "mean_odt_original = 764.3\n",
    "std_odt_original = 263.4\n",
    "n = 100  # number of evaluation rounds\n",
    "\n",
    "# Data for Modified Environment\n",
    "mean_ppo_modified = -708.4\n",
    "std_ppo_modified = 749.0\n",
    "mean_odt_modified = -1366.1\n",
    "std_odt_modified = 42.2\n",
    "\n",
    "# Perform t-tests\n",
    "t_statistic_original, p_value_original = ttest_ind_from_stats(mean1=mean_ppo_original, std1=std_ppo_original, nobs1=n,\n",
    "                                                              mean2=mean_odt_original, std2=std_odt_original, nobs2=n)\n",
    "t_statistic_modified, p_value_modified = ttest_ind_from_stats(mean1=mean_ppo_modified, std1=std_ppo_modified, nobs1=n,\n",
    "                                                              mean2=mean_odt_modified, std2=std_odt_modified, nobs2=n)\n",
    "\n",
    "t_statistic_original, p_value_original, t_statistic_modified, p_value_modified\n",
    "\n"
   ]
  },
  {
   "cell_type": "code",
   "execution_count": 5,
   "metadata": {},
   "outputs": [
    {
     "data": {
      "text/plain": [
       "(2.651175732739522,\n",
       " 0.008670425807144569,\n",
       " 2.2111468839397763,\n",
       " 0.02817011178423073)"
      ]
     },
     "execution_count": 5,
     "metadata": {},
     "output_type": "execute_result"
    }
   ],
   "source": [
    "\n",
    "# Data for Original Environment\n",
    "mean_ppo_original = 369.1\n",
    "std_ppo_original = 266.0\n",
    "mean_odt_original = 253.1\n",
    "std_odt_original = 347.4\n",
    "n = 100  # number of evaluation rounds\n",
    "\n",
    "# Data for Modified Environment\n",
    "mean_ppo_modified = -499.45\n",
    "std_ppo_modified = 114.7\n",
    "mean_odt_modified = -538.1\n",
    "std_odt_modified = 131.9\n",
    "\n",
    "# Perform t-tests\n",
    "t_statistic_original, p_value_original = ttest_ind_from_stats(mean1=mean_ppo_original, std1=std_ppo_original, nobs1=n,\n",
    "                                                              mean2=mean_odt_original, std2=std_odt_original, nobs2=n)\n",
    "t_statistic_modified, p_value_modified = ttest_ind_from_stats(mean1=mean_ppo_modified, std1=std_ppo_modified, nobs1=n,\n",
    "                                                              mean2=mean_odt_modified, std2=std_odt_modified, nobs2=n)\n",
    "\n",
    "t_statistic_original, p_value_original, t_statistic_modified, p_value_modified"
   ]
  }
 ],
 "metadata": {
  "kernelspec": {
   "display_name": "graphs",
   "language": "python",
   "name": "python3"
  },
  "language_info": {
   "codemirror_mode": {
    "name": "ipython",
    "version": 3
   },
   "file_extension": ".py",
   "mimetype": "text/x-python",
   "name": "python",
   "nbconvert_exporter": "python",
   "pygments_lexer": "ipython3",
   "version": "3.12.0"
  }
 },
 "nbformat": 4,
 "nbformat_minor": 2
}
